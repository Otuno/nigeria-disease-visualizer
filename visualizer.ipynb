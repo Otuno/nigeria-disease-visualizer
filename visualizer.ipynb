{
  "nbformat": 4,
  "nbformat_minor": 0,
  "metadata": {
    "colab": {
      "provenance": []
    },
    "kernelspec": {
      "name": "python3",
      "display_name": "Python 3"
    },
    "language_info": {
      "name": "python"
    }
  },
  "cells": [
    {
      "cell_type": "code",
      "source": [
        "import pandas as pd\n",
        "import matplotlib.pyplot as plt\n",
        "\n",
        "# Load the data\n",
        "df = pd.read_csv(\"nigeria_disease_data.csv\")\n",
        "df.head()\n"
      ],
      "metadata": {
        "id": "gWwKLz0nBdy1"
      },
      "execution_count": null,
      "outputs": []
    },
    {
      "cell_type": "code",
      "source": [
        "# Total cases by disease\n",
        "total_cases = df[[\"Malaria\", \"Cholera\", \"Lassa Fever\", \"COVID-19\"]].sum()\n",
        "total_cases.plot(kind='pie', autopct='%1.1f%%', figsize=(6,6), title=\"Proportion of Disease Cases\")\n",
        "plt.ylabel(\"\")\n",
        "plt.show()\n"
      ],
      "metadata": {
        "id": "AK3bSPr-Cuym"
      },
      "execution_count": null,
      "outputs": []
    },
    {
      "cell_type": "code",
      "source": [
        "# Bar chart: total cases by state\n",
        "state_cases = df.groupby(\"State\")[[\"Malaria\", \"Cholera\", \"Lassa Fever\", \"COVID-19\"]].sum()\n",
        "state_cases.plot(kind='bar', figsize=(10,6), title=\"Disease Cases by State\")\n",
        "plt.xlabel(\"State\")\n",
        "plt.ylabel(\"Number of Cases\")\n",
        "plt.show()\n"
      ],
      "metadata": {
        "id": "rYAnMJjfCwdQ"
      },
      "execution_count": null,
      "outputs": []
    },
    {
      "cell_type": "code",
      "source": [
        "# Line plot: COVID-19 trend over weeks\n",
        "covid_trend = df.groupby(\"Week\")[\"COVID-19\"].sum()\n",
        "covid_trend.plot(marker='o', title=\"COVID-19 Trend Over Weeks\")\n",
        "plt.ylabel(\"Cases\")\n",
        "plt.show()\n"
      ],
      "metadata": {
        "id": "hkpt83nRC4Bk"
      },
      "execution_count": null,
      "outputs": []
    }
  ]
}